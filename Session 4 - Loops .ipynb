{
 "cells": [
  {
   "cell_type": "code",
   "execution_count": null,
   "metadata": {},
   "outputs": [],
   "source": [
    "Comparison \n",
    "identity operators is is not\n",
    "membership in not in  \n",
    "logical "
   ]
  },
  {
   "cell_type": "code",
   "execution_count": null,
   "metadata": {},
   "outputs": [],
   "source": [
    "str \n",
    "list \n",
    "tuple \n",
    "set \n",
    "dict"
   ]
  },
  {
   "cell_type": "code",
   "execution_count": null,
   "metadata": {},
   "outputs": [],
   "source": [
    "=  and =="
   ]
  },
  {
   "cell_type": "code",
   "execution_count": null,
   "metadata": {},
   "outputs": [],
   "source": [
    "== and is "
   ]
  },
  {
   "cell_type": "code",
   "execution_count": null,
   "metadata": {},
   "outputs": [],
   "source": [
    "if \"\":\n",
    "    print(\"False\")\n",
    "else:\n",
    "    print(\"True\")"
   ]
  },
  {
   "cell_type": "code",
   "execution_count": null,
   "metadata": {},
   "outputs": [],
   "source": [
    "zero values 0 \"\" [] () {} None  => False \n"
   ]
  },
  {
   "cell_type": "code",
   "execution_count": 5,
   "metadata": {},
   "outputs": [
    {
     "name": "stdout",
     "output_type": "stream",
     "text": [
      "String in rev\n"
     ]
    }
   ],
   "source": [
    "s = \"python\"\n",
    "if s:\n",
    "    print(\"String in rev\")\n",
    "else:\n",
    "    print(\"STring is empty\")"
   ]
  },
  {
   "cell_type": "code",
   "execution_count": null,
   "metadata": {},
   "outputs": [],
   "source": [
    "For \n",
    "While "
   ]
  },
  {
   "cell_type": "code",
   "execution_count": 8,
   "metadata": {},
   "outputs": [
    {
     "name": "stdout",
     "output_type": "stream",
     "text": [
      "Total marks  150 per  30.0 result Fail\n",
      "Total marks  400 per  80.0 result Pass\n",
      "Total marks  490 per  98.0 result Pass\n",
      "Total marks  50 per  10.0 result Fail\n",
      "Total marks  250 per  50.0 result Pass\n"
     ]
    }
   ],
   "source": [
    "marks = [150,400,490,50,250]\n",
    "total_marks = 500\n",
    "for mark in marks:\n",
    "    per = (mark/total_marks)*100\n",
    "    if per >= 40:\n",
    "        print(\"Total marks \",mark,\"per \",per,\"result Pass\")\n",
    "    else:\n",
    "        print(\"Total marks \",mark,\"per \",per,\"result Fail\")"
   ]
  },
  {
   "cell_type": "code",
   "execution_count": null,
   "metadata": {},
   "outputs": [],
   "source": [
    "for [user_defined variable] in iterable_datatype:\n",
    "    statements"
   ]
  },
  {
   "cell_type": "code",
   "execution_count": 9,
   "metadata": {},
   "outputs": [
    {
     "name": "stdout",
     "output_type": "stream",
     "text": [
      "100\n",
      "200\n",
      "300\n",
      "Python\n",
      "(1, 2, 3)\n"
     ]
    }
   ],
   "source": [
    "l = [100,200,300,\"Python\",(1,2,3)]\n",
    "for value in l:\n",
    "    print(value)"
   ]
  },
  {
   "cell_type": "code",
   "execution_count": null,
   "metadata": {},
   "outputs": [],
   "source": [
    "for value in \"Python\":\n",
    "    print(value)"
   ]
  },
  {
   "cell_type": "code",
   "execution_count": 11,
   "metadata": {},
   "outputs": [
    {
     "name": "stdout",
     "output_type": "stream",
     "text": [
      "150\n"
     ]
    }
   ],
   "source": [
    "l = [10,20,30,40,50]\n",
    "sum = 0\n",
    "for value in l:\n",
    "    sum = sum + value\n",
    "print(sum)"
   ]
  },
  {
   "cell_type": "code",
   "execution_count": null,
   "metadata": {},
   "outputs": [],
   "source": [
    "sum 0 value 10 :  0 + 10 = sum = 10\n",
    "sum 10 value 20   10 + 20 = 30 = sum \n",
    "sum 30 value 30   30 + 30 = 60 = sum \n"
   ]
  },
  {
   "cell_type": "code",
   "execution_count": 12,
   "metadata": {},
   "outputs": [
    {
     "name": "stdout",
     "output_type": "stream",
     "text": [
      "4\n",
      "8\n"
     ]
    }
   ],
   "source": [
    "s = \"python is easy\"\n",
    "space_count = 0\n",
    "vowel_count = 0\n",
    "consonent_count = 0\n",
    "\n",
    "for value in s:\n",
    "    if value not in ['a','e','i','o','u'] and value != \" \":\n",
    "        consonent_count += 1\n",
    "    elif value == \" \":\n",
    "        space_count +=1\n",
    "    else:\n",
    "        vowel_count+=1 \n",
    "        \n",
    "print(vowel_count)\n",
    "print(consonent_count)"
   ]
  },
  {
   "cell_type": "code",
   "execution_count": 31,
   "metadata": {},
   "outputs": [
    {
     "name": "stdout",
     "output_type": "stream",
     "text": [
      "True\n"
     ]
    }
   ],
   "source": [
    "l = [10,20,30,40,50,60,70]\n",
    "key = 40\n",
    "flag = False\n",
    "for value in l:\n",
    "    if value == key:\n",
    "#         print(True)\n",
    "        flag = True\n",
    "        break\n",
    "print(flag)\n"
   ]
  },
  {
   "cell_type": "code",
   "execution_count": null,
   "metadata": {},
   "outputs": [],
   "source": [
    "ctrl + / "
   ]
  },
  {
   "cell_type": "code",
   "execution_count": 43,
   "metadata": {},
   "outputs": [
    {
     "name": "stdout",
     "output_type": "stream",
     "text": [
      "False\n"
     ]
    }
   ],
   "source": [
    "l = [10,20,30,40,50,60,70]\n",
    "key = 0\n",
    "for value in l:\n",
    "    if value == key:\n",
    "        print(True)\n",
    "        break\n",
    "else:\n",
    "    print(False)"
   ]
  },
  {
   "cell_type": "code",
   "execution_count": 45,
   "metadata": {},
   "outputs": [
    {
     "name": "stdout",
     "output_type": "stream",
     "text": [
      "False\n"
     ]
    }
   ],
   "source": [
    "print(500 in [10,20,50,50,50,50,50,50])"
   ]
  }
 ],
 "metadata": {
  "kernelspec": {
   "display_name": "Python 3",
   "language": "python",
   "name": "python3"
  },
  "language_info": {
   "codemirror_mode": {
    "name": "ipython",
    "version": 3
   },
   "file_extension": ".py",
   "mimetype": "text/x-python",
   "name": "python",
   "nbconvert_exporter": "python",
   "pygments_lexer": "ipython3",
   "version": "3.6.5"
  }
 },
 "nbformat": 4,
 "nbformat_minor": 2
}
