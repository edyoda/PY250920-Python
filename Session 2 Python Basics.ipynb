{
 "cells": [
  {
   "cell_type": "code",
   "execution_count": 8,
   "metadata": {},
   "outputs": [
    {
     "name": "stdout",
     "output_type": "stream",
     "text": [
      "Hi\n"
     ]
    }
   ],
   "source": [
    "print(\"\"\"Hi\"\"\")"
   ]
  },
  {
   "cell_type": "code",
   "execution_count": 3,
   "metadata": {},
   "outputs": [
    {
     "name": "stdout",
     "output_type": "stream",
     "text": [
      "100\n"
     ]
    }
   ],
   "source": [
    "print(100)"
   ]
  },
  {
   "cell_type": "code",
   "execution_count": 4,
   "metadata": {},
   "outputs": [
    {
     "name": "stdout",
     "output_type": "stream",
     "text": [
      "10.55\n"
     ]
    }
   ],
   "source": [
    "print(10.55)"
   ]
  },
  {
   "cell_type": "code",
   "execution_count": null,
   "metadata": {},
   "outputs": [],
   "source": [
    "int 10 15 25 500000000\n",
    "float 10.255 45.555 \n",
    "str 'python is easy to learn' \" i dont want to learn java\" \"\"\"i can write anything  155555555\"\"\""
   ]
  },
  {
   "cell_type": "code",
   "execution_count": 13,
   "metadata": {},
   "outputs": [],
   "source": [
    "s = \"\"\"this is kunals's \n",
    "session\"\"\""
   ]
  },
  {
   "cell_type": "code",
   "execution_count": null,
   "metadata": {},
   "outputs": [],
   "source": [
    "\"he'l'lo\""
   ]
  },
  {
   "cell_type": "code",
   "execution_count": 19,
   "metadata": {},
   "outputs": [
    {
     "name": "stdout",
     "output_type": "stream",
     "text": [
      "2670\n"
     ]
    }
   ],
   "source": [
    "num1 = 590\n",
    "num2 = 1080\n",
    "num3 = 1000\n",
    "num4 = 850\n",
    "result = num1 + num2 + num3\n",
    "print(result)"
   ]
  },
  {
   "cell_type": "code",
   "execution_count": 16,
   "metadata": {},
   "outputs": [
    {
     "ename": "NameError",
     "evalue": "name 'hi' is not defined",
     "output_type": "error",
     "traceback": [
      "\u001b[1;31m---------------------------------------------------------------------------\u001b[0m",
      "\u001b[1;31mNameError\u001b[0m                                 Traceback (most recent call last)",
      "\u001b[1;32m<ipython-input-16-6122400d05e8>\u001b[0m in \u001b[0;36m<module>\u001b[1;34m()\u001b[0m\n\u001b[1;32m----> 1\u001b[1;33m \u001b[0mprint\u001b[0m\u001b[1;33m(\u001b[0m\u001b[0mhi\u001b[0m\u001b[1;33m)\u001b[0m\u001b[1;33m\u001b[0m\u001b[0m\n\u001b[0m",
      "\u001b[1;31mNameError\u001b[0m: name 'hi' is not defined"
     ]
    }
   ],
   "source": [
    "print(hi)"
   ]
  },
  {
   "cell_type": "code",
   "execution_count": 21,
   "metadata": {},
   "outputs": [
    {
     "name": "stdout",
     "output_type": "stream",
     "text": [
      "835.0\n"
     ]
    }
   ],
   "source": [
    "num1 = 590\n",
    "num2 = 1080\n",
    "sum = num1 + num2\n",
    "avg = sum  / 2\n",
    "print(avg)"
   ]
  },
  {
   "cell_type": "code",
   "execution_count": 56,
   "metadata": {},
   "outputs": [
    {
     "name": "stdout",
     "output_type": "stream",
     "text": [
      "Enter number 1100\n",
      "Enter number 2200\n",
      "150.0\n"
     ]
    }
   ],
   "source": [
    "num1 = int(input(\"Enter number 1\"))\n",
    "num2 = int(input(\"Enter number 2\"))\n",
    "avg = (num1 + num2)/2\n",
    "print(avg)"
   ]
  },
  {
   "cell_type": "code",
   "execution_count": 55,
   "metadata": {},
   "outputs": [
    {
     "name": "stdout",
     "output_type": "stream",
     "text": [
      "100 <class 'int'>\n",
      "Python <class 'str'>\n"
     ]
    }
   ],
   "source": [
    "num1 = 100\n",
    "print(num1,type(num1))\n",
    "num1 = \"Python\"\n",
    "print(num1,type(num1))"
   ]
  },
  {
   "cell_type": "code",
   "execution_count": 26,
   "metadata": {},
   "outputs": [
    {
     "name": "stdout",
     "output_type": "stream",
     "text": [
      "<class 'str'>\n"
     ]
    }
   ],
   "source": [
    "num1 = '100'\n",
    "print(type(num1))"
   ]
  },
  {
   "cell_type": "code",
   "execution_count": 27,
   "metadata": {},
   "outputs": [
    {
     "name": "stdout",
     "output_type": "stream",
     "text": [
      "<class 'str'>\n"
     ]
    }
   ],
   "source": [
    "first_name = \"kunal\"\n",
    "print(type(first_name))"
   ]
  },
  {
   "cell_type": "code",
   "execution_count": 29,
   "metadata": {},
   "outputs": [
    {
     "name": "stdout",
     "output_type": "stream",
     "text": [
      "1577351328\n"
     ]
    }
   ],
   "source": [
    "num1 = 100\n",
    "print(id(num1))"
   ]
  },
  {
   "cell_type": "code",
   "execution_count": 34,
   "metadata": {},
   "outputs": [
    {
     "name": "stdout",
     "output_type": "stream",
     "text": [
      "2297548499056\n",
      "2297548500304\n"
     ]
    }
   ],
   "source": [
    "num1 = 257\n",
    "print(id(num1))\n",
    "num2 = 257\n",
    "print(id(num2))"
   ]
  },
  {
   "cell_type": "code",
   "execution_count": 31,
   "metadata": {},
   "outputs": [
    {
     "name": "stdout",
     "output_type": "stream",
     "text": [
      "2297548498032\n",
      "2297548500304\n"
     ]
    }
   ],
   "source": [
    "num1 = 1000\n",
    "print(id(num1))\n",
    "num2 = 1000\n",
    "print(id(num2))"
   ]
  },
  {
   "cell_type": "code",
   "execution_count": null,
   "metadata": {},
   "outputs": [],
   "source": [
    "0 - 256 "
   ]
  },
  {
   "cell_type": "code",
   "execution_count": 36,
   "metadata": {},
   "outputs": [
    {
     "name": "stdout",
     "output_type": "stream",
     "text": [
      "2297524065200 2297524065200\n"
     ]
    }
   ],
   "source": [
    "s1 = 'python'\n",
    "s2 = 'python'\n",
    "print(id(s1),id(s2))"
   ]
  },
  {
   "cell_type": "code",
   "execution_count": null,
   "metadata": {},
   "outputs": [],
   "source": [
    "Mutable and immutable "
   ]
  },
  {
   "cell_type": "code",
   "execution_count": 38,
   "metadata": {},
   "outputs": [
    {
     "name": "stdout",
     "output_type": "stream",
     "text": [
      "100 1577351328\n",
      "150 1577352928\n"
     ]
    }
   ],
   "source": [
    "num1 = 100\n",
    "print(num1,id(num1))\n",
    "num1 = 150\n",
    "print(num1,id(num1))"
   ]
  },
  {
   "cell_type": "code",
   "execution_count": null,
   "metadata": {},
   "outputs": [],
   "source": [
    "      100 ...328\n",
    "num1  150 ...928 "
   ]
  },
  {
   "cell_type": "code",
   "execution_count": null,
   "metadata": {},
   "outputs": [],
   "source": [
    "n1 = 1\n",
    "n1 = 2\n",
    "\n",
    "   1  ...505\n",
    "n1 2  ...510"
   ]
  },
  {
   "cell_type": "code",
   "execution_count": null,
   "metadata": {},
   "outputs": [],
   "source": [
    "immutable : if you are not able to add/update/delete the value at same mem location"
   ]
  },
  {
   "cell_type": "code",
   "execution_count": 40,
   "metadata": {},
   "outputs": [
    {
     "name": "stdout",
     "output_type": "stream",
     "text": [
      "2297548498288\n",
      "2297548500624\n"
     ]
    }
   ],
   "source": [
    "num1 = 850\n",
    "print(id(num1))\n",
    "num1 = 1000\n",
    "print(id(num1))"
   ]
  },
  {
   "cell_type": "code",
   "execution_count": null,
   "metadata": {},
   "outputs": [],
   "source": [
    "850   99888\n",
    "num1 1000  99777"
   ]
  },
  {
   "cell_type": "code",
   "execution_count": 41,
   "metadata": {},
   "outputs": [
    {
     "name": "stdout",
     "output_type": "stream",
     "text": [
      "2297524065200\n",
      "2297516685944\n"
     ]
    }
   ],
   "source": [
    "s1 = \"python\"\n",
    "print(id(s1))\n",
    "\n",
    "s1 = \"Java\"\n",
    "print(id(s1))"
   ]
  },
  {
   "cell_type": "code",
   "execution_count": 42,
   "metadata": {},
   "outputs": [
    {
     "name": "stdout",
     "output_type": "stream",
     "text": [
      "2297508789752\n",
      "2297508789752\n"
     ]
    }
   ],
   "source": [
    "s1 = \"a\"\n",
    "print(id(s1))\n",
    "s2 = \"a\"\n",
    "print(id(s2))"
   ]
  },
  {
   "cell_type": "code",
   "execution_count": 46,
   "metadata": {},
   "outputs": [
    {
     "name": "stdout",
     "output_type": "stream",
     "text": [
      "<class 'list'>\n",
      "2297550074952\n",
      "2297550074952\n",
      "[10, 20, 30, 40, 50, 60]\n"
     ]
    }
   ],
   "source": [
    "l = [10,20,30,40,50]\n",
    "print(type(l))\n",
    "print(id(l))\n",
    "\n",
    "l.append(60)\n",
    "print(id(l))\n",
    "\n",
    "print(l)"
   ]
  },
  {
   "cell_type": "code",
   "execution_count": null,
   "metadata": {},
   "outputs": [],
   "source": [
    "Mutable : AT same mem i will be able to perform add/update/del operation \n",
    "Immutable : At same mem location you can not perform add/update/delete"
   ]
  },
  {
   "cell_type": "code",
   "execution_count": 51,
   "metadata": {},
   "outputs": [
    {
     "name": "stdout",
     "output_type": "stream",
     "text": [
      "<class 'float'>\n",
      "<class 'float'>\n",
      "300.0\n"
     ]
    }
   ],
   "source": [
    "s1 = float('100')\n",
    "print(type(s1))\n",
    "s2 = float('200')\n",
    "print(type(s1))\n",
    "print(s1 + s2)"
   ]
  },
  {
   "cell_type": "code",
   "execution_count": 53,
   "metadata": {},
   "outputs": [
    {
     "name": "stdout",
     "output_type": "stream",
     "text": [
      "<class 'str'>\n"
     ]
    }
   ],
   "source": [
    "num1 = str(100)\n",
    "print(type(num1))"
   ]
  },
  {
   "cell_type": "code",
   "execution_count": 54,
   "metadata": {},
   "outputs": [
    {
     "name": "stdout",
     "output_type": "stream",
     "text": [
      "Enter the number100\n",
      "<class 'str'>\n"
     ]
    }
   ],
   "source": [
    "num1 = input(\"Enter the number\")\n",
    "print(type(num1))"
   ]
  },
  {
   "cell_type": "code",
   "execution_count": 57,
   "metadata": {},
   "outputs": [
    {
     "name": "stdout",
     "output_type": "stream",
     "text": [
      "100 200\n"
     ]
    }
   ],
   "source": [
    "num1,num2 = 100,200\n",
    "print(num1,num2)"
   ]
  },
  {
   "cell_type": "code",
   "execution_count": 59,
   "metadata": {},
   "outputs": [
    {
     "name": "stdout",
     "output_type": "stream",
     "text": [
      "(100, 200) <class 'tuple'>\n"
     ]
    }
   ],
   "source": [
    "num1 = 100,200\n",
    "print(num1,type(num1))"
   ]
  },
  {
   "cell_type": "code",
   "execution_count": 61,
   "metadata": {},
   "outputs": [
    {
     "name": "stdout",
     "output_type": "stream",
     "text": [
      "[10, 20, 30, 40] <class 'list'>\n",
      "(10, 20, 30, 40) <class 'tuple'>\n"
     ]
    }
   ],
   "source": [
    "l = [10,20,30,40]\n",
    "print(l,type(l))\n",
    "t = (10,20,30,40)\n",
    "print(t,type(t))"
   ]
  },
  {
   "cell_type": "code",
   "execution_count": 63,
   "metadata": {},
   "outputs": [
    {
     "name": "stdout",
     "output_type": "stream",
     "text": [
      "(100, 200)\n"
     ]
    }
   ],
   "source": [
    "num1 = 100,200\n",
    "print(num1)"
   ]
  },
  {
   "cell_type": "code",
   "execution_count": null,
   "metadata": {},
   "outputs": [],
   "source": [
    "int 10 : immutable \n",
    "str '' \" \" \"\"\" \"\"\" : immutable \n",
    "float 15.2555 : immutable \n",
    "list  [15,25,63] mutable \n",
    "tuple (15,25,63) : immutable "
   ]
  },
  {
   "cell_type": "code",
   "execution_count": null,
   "metadata": {},
   "outputs": [],
   "source": [
    "type()\n",
    "id()\n",
    "\n",
    "num1 = 100\n",
    "num2 = 100\n",
    "\n",
    "mutable : "
   ]
  },
  {
   "cell_type": "code",
   "execution_count": 5,
   "metadata": {},
   "outputs": [
    {
     "name": "stdout",
     "output_type": "stream",
     "text": [
      "Hi\n"
     ]
    }
   ],
   "source": [
    "print(\"Hi\")"
   ]
  },
  {
   "cell_type": "code",
   "execution_count": 4,
   "metadata": {},
   "outputs": [
    {
     "name": "stdout",
     "output_type": "stream",
     "text": [
      "Python\n"
     ]
    }
   ],
   "source": [
    "print(\"Python\")"
   ]
  }
 ],
 "metadata": {
  "kernelspec": {
   "display_name": "Python 3",
   "language": "python",
   "name": "python3"
  },
  "language_info": {
   "codemirror_mode": {
    "name": "ipython",
    "version": 3
   },
   "file_extension": ".py",
   "mimetype": "text/x-python",
   "name": "python",
   "nbconvert_exporter": "python",
   "pygments_lexer": "ipython3",
   "version": "3.6.5"
  }
 },
 "nbformat": 4,
 "nbformat_minor": 2
}
